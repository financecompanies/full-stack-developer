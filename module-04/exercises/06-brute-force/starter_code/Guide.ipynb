{
 "cells": [
  {
   "cell_type": "markdown",
   "metadata": {
    "editable": true,
    "ulab": {
     "buttons": {
      "ulab-button-d4230b9d": {
       "bashCommand": "export FLASK_APP=app.py; flask run;",
       "filesToOpen": [],
       "isPreviewButton": false,
       "runInBackground": false,
       "style": "primary",
       "text": "Start Server",
       "toggleOffText": "HIDE SOLUTION",
       "toggleOnText": "SHOW SOLUTION"
      }
     }
    }
   },
   "source": [
    "You're playing the role of the an adversary by brute forcing a poorly designed login page.\n",
    "\n",
    "First, start the server:\n",
    "\n",
    "<button id=\"ulab-button-d4230b9d\" class=\"ulab-btn--primary\"></button>\n",
    "\n",
    "Then, use the notebook to the right to try to gain access by making sequential post requests using the NIST 10,000 bad passwords list provided.\n",
    "\n",
    "> *TIP*: The server logs are displayed below. Use Ctrl+C to stop the server in the event of a crash."
   ]
  }
 ],
 "metadata": {
  "kernelspec": {
   "display_name": "Python 3",
   "language": "python",
   "name": "python3"
  },
  "language_info": {
   "codemirror_mode": {
    "name": "ipython",
    "version": 3
   },
   "file_extension": ".py",
   "mimetype": "text/x-python",
   "name": "python",
   "nbconvert_exporter": "python",
   "pygments_lexer": "ipython3",
   "version": "3.6.3"
  },
  "ulab_nb_type": "guided"
 },
 "nbformat": 4,
 "nbformat_minor": 4
}
