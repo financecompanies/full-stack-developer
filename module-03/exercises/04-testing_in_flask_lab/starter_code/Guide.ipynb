{
 "cells": [
  {
   "cell_type": "markdown",
   "metadata": {
    "editable": false
   },
   "source": [
    "# Welcome!\n",
    "\n",
    "In this stage of the app you'll be working in `test_flaskr.py`. In order to run your code, you'll need to navigate to the backend folder in terminal and then run `python test_flaskr.py`. Before you get started, run the command and check that the output looks as follows: \n",
    "\n",
    "```\n",
    "root@1a7160b1f4c8:/home/workspace/backend# python test_flaskr.py\n",
    "\n",
    "----------------------------------------------------------------------\n",
    "Ran 0 tests in 0.000s\n",
    "\n",
    "OK\n",
    "```"
   ]
  },
  {
   "cell_type": "markdown",
   "metadata": {
    "editable": false
   },
   "source": [
    "<!--\n",
    "%%ulab_page_divider\n",
    "--><hr/>"
   ]
  },
  {
   "cell_type": "markdown",
   "metadata": {
    "editable": false
   },
   "source": [
    "## `__init__.py`\n",
    "\n",
    "Also make sure you read over `__init__.py` to understand how the solution code is structured. The code is provided and *is not* the code you submitted in the lesson on writing PATCH, POST and DELETE requests."
   ]
  },
  {
   "cell_type": "markdown",
   "metadata": {
    "editable": false
   },
   "source": [
    "## Writing Your Tests\n",
    "\n",
    "Write at least two tests for each endpoint - one each for success and error behavior.\n",
    "You can feel free to write additional tests for nuanced functionality, such as adding a book without a rating, etc. Since there are four routes currently, you should have at least eight tests. \n",
    "\n",
    "To get started, write two tests - one for success and one error - for the GET /books endpoint. After writing your tests, run `python test_flaskr.py` again. \n",
    "\n",
    "When you're ready, hit `SHOW SOLUTION` below to see the two tests your instructor wrote and compare them to your own. "
   ]
  },
  {
   "cell_type": "markdown",
   "metadata": {
    "editable": false,
    "toggleable": true,
    "ulab": {
     "buttons": {
      "ulab-button-toggle-b780461a": {
       "style": "primary"
      }
     }
    }
   },
   "source": [
    "    def test_get_paginated_books(self):\n",
    "        res = self.client().get('/books')\n",
    "        data = json.loads(res.data)\n",
    "\n",
    "        self.assertEqual(res.status_code, 200)\n",
    "        self.assertEqual(data['success'], True)\n",
    "        self.assertTrue(data['total_books'])\n",
    "        self.assertTrue(len(data['books']))\n",
    "    \n",
    "    def test_404_sent_requesting_beyond_valid_page(self):\n",
    "        res = self.client().get('/books?page=1000', json={'rating': 1})\n",
    "        data = json.loads(res.data)\n",
    "\n",
    "        self.assertEqual(res.status_code, 404)\n",
    "        self.assertEqual(data['success'], False)\n",
    "        self.assertEqual(data['message'], 'resource not found')"
   ]
  },
  {
   "cell_type": "markdown",
   "metadata": {
    "editable": false
   },
   "source": [
    "<!--\n",
    "%%ulab_page_divider\n",
    "--><hr/>"
   ]
  },
  {
   "cell_type": "markdown",
   "metadata": {
    "editable": false
   },
   "source": [
    "## Start the Application\n",
    "\n",
    "As with the other workspaces, you are welcome to use the buttons below to start the frontend app and start the backend app with `flask run` *after* setting your export variables and testing out the app interface. "
   ]
  },
  {
   "cell_type": "markdown",
   "metadata": {
    "editable": false,
    "ulab": {
     "buttons": {
      "ulab-button-6b066832": {
       "bashCommand": "",
       "filesToOpen": [],
       "isPreviewButton": true,
       "runInBackground": false,
       "style": "primary",
       "text": "OPEN APP",
       "toggleOffText": "HIDE SOLUTION",
       "toggleOnText": "SHOW SOLUTION"
      },
      "ulab-button-8853936a": {
       "bashCommand": "\\u0003",
       "filesToOpen": [],
       "isPreviewButton": false,
       "runInBackground": false,
       "style": "primary",
       "text": "STOP APP",
       "toggleOffText": "HIDE SOLUTION",
       "toggleOnText": "SHOW SOLUTION"
      },
      "ulab-button-ce199068": {
       "bashCommand": "cd ~/ && cd /home/workspace/frontend && npm start",
       "filesToOpen": [],
       "isPreviewButton": false,
       "runInBackground": false,
       "style": "primary",
       "text": "START APP",
       "toggleOffText": "HIDE SOLUTION",
       "toggleOnText": "SHOW SOLUTION"
      }
     }
    }
   },
   "source": [
    "<button id=\"ulab-button-ce199068\" class=\"ulab-btn--primary\"></button><button id=\"ulab-button-6b066832\" class=\"ulab-btn--primary\"></button><button id=\"ulab-button-8853936a\" class=\"ulab-btn--primary\"></button>"
   ]
  }
 ],
 "metadata": {
  "kernelspec": {
   "display_name": "Python 3",
   "language": "python",
   "name": "python3"
  },
  "language_info": {
   "codemirror_mode": {
    "name": "ipython",
    "version": 3
   },
   "file_extension": ".py",
   "mimetype": "text/x-python",
   "name": "python",
   "nbconvert_exporter": "python",
   "pygments_lexer": "ipython3",
   "version": "3.6.3"
  },
  "ulab_nb_type": "guided"
 },
 "nbformat": 4,
 "nbformat_minor": 4
}
