{
 "cells": [
  {
   "cell_type": "markdown",
   "metadata": {
    "editable": true
   },
   "source": [
    "# API Documentation Practice\n",
    "In this workspace, your task is to practice writing documentation for the bookstore app we created earlier.\n",
    "\n",
    "You'll soon be writing documentation for your final project (the Trivia API), after which you'll get feedback from a reviewer. You can think of this as some rudimentary practice to prepare for that.\n",
    "\n",
    "At each step, you can compare what you've written with our own version. Of course, there isn't a single correct way to write a piece of documentation, so your version may look quite different. However, there are principles and practices you should follow in order to produce quality documentation, and we'll point this out so you can check whether you've incorporated them in what you wrote.\n",
    "\n",
    "To get started, go ahead and move to the next page in this workspace."
   ]
  },
  {
   "cell_type": "markdown",
   "metadata": {
    "editable": true
   },
   "source": [
    "<!--\n",
    "%%ulab_page_divider\n",
    "--><hr/>"
   ]
  },
  {
   "cell_type": "markdown",
   "metadata": {
    "editable": true
   },
   "source": [
    "## Getting started\n",
    "\n",
    "Now, add a Getting Started section to your documentation. Remember, this should include at least your base URL and an explanation of authentication. Feel free to provide other information that is relevant for your API\n",
    "\n",
    "...\n",
    "\n",
    "When you're ready, you can compare it with our version."
   ]
  },
  {
   "cell_type": "markdown",
   "metadata": {
    "editable": true,
    "toggleable": true,
    "ulab": {
     "buttons": {
      "ulab-button-toggle-7f3d66fe": {
       "style": "primary"
      }
     }
    }
   },
   "source": [
    "### Getting Started\n",
    "- Base URL: At present this app can only be run locally and is not hosted as a base URL. The backend app is hosted at the default, `http://127.0.0.1:5000/`, which is set as a proxy in the frontend configuration. \n",
    "- Authentication: This version of the application does not require authentication or API keys. "
   ]
  },
  {
   "cell_type": "markdown",
   "metadata": {
    "editable": true
   },
   "source": [
    "<!--\n",
    "%%ulab_page_divider\n",
    "--><hr/>"
   ]
  },
  {
   "cell_type": "markdown",
   "metadata": {
    "editable": true
   },
   "source": [
    "## Error Handling\n",
    "\n",
    "Now, add an Error Handling section to your documentation. It should include the format of the error responses the client can expect as well as which status codes you use. \n",
    "\n",
    "...\n",
    "\n",
    "When you're ready, you can compare it with our version."
   ]
  },
  {
   "cell_type": "markdown",
   "metadata": {
    "editable": true,
    "toggleable": true,
    "ulab": {
     "buttons": {
      "ulab-button-toggle-eaf6ae04": {
       "style": "primary"
      }
     }
    }
   },
   "source": [
    "### Error Handling\n",
    "Errors are returned as JSON objects in the following format:\n",
    "```\n",
    "{\n",
    "    \"success\": False, \n",
    "    \"error\": 400,\n",
    "    \"message\": \"bad request\"\n",
    "}\n",
    "```\n",
    "The API will return three error types when requests fail:\n",
    "- 400: Bad Request\n",
    "- 404: Resource Not Found\n",
    "- 422: Not Processable \n"
   ]
  },
  {
   "cell_type": "markdown",
   "metadata": {
    "editable": true
   },
   "source": [
    "<!--\n",
    "%%ulab_page_divider\n",
    "--><hr/>"
   ]
  },
  {
   "cell_type": "markdown",
   "metadata": {
    "editable": true
   },
   "source": [
    "## Endpoint Library\n",
    "\n",
    "Now, add an Endpoint Library section to your documentation. Make sure that endpoints, methods and returned data are all clear. Consider including sample requests for clarity\n",
    "\n",
    "...\n",
    "\n",
    "When you're ready, you can compare it with our version."
   ]
  },
  {
   "cell_type": "markdown",
   "metadata": {
    "editable": true,
    "toggleable": true,
    "ulab": {
     "buttons": {
      "ulab-button-toggle-3582285b": {
       "style": "primary"
      }
     }
    }
   },
   "source": [
    "#### GET /books\n",
    "- General:\n",
    "    - Returns a list of book objects, success value, and total number of books\n",
    "    - Results are paginated in groups of 8. Include a request argument to choose page number, starting from 1. \n",
    "- Sample: `curl http://127.0.0.1:5000/books`\n",
    "\n",
    "``` {\n",
    "  \"books\": [\n",
    "    {\n",
    "      \"author\": \"Stephen King\",\n",
    "      \"id\": 1,\n",
    "      \"rating\": 5,\n",
    "      \"title\": \"The Outsider: A Novel\"\n",
    "    },\n",
    "    {\n",
    "      \"author\": \"Lisa Halliday\",\n",
    "      \"id\": 2,\n",
    "      \"rating\": 5,\n",
    "      \"title\": \"Asymmetry: A Novel\"\n",
    "    },\n",
    "    {\n",
    "      \"author\": \"Kristin Hannah\",\n",
    "      \"id\": 3,\n",
    "      \"rating\": 5,\n",
    "      \"title\": \"The Great Alone\"\n",
    "    },\n",
    "    {\n",
    "      \"author\": \"Tara Westover\",\n",
    "      \"id\": 4,\n",
    "      \"rating\": 5,\n",
    "      \"title\": \"Educated: A Memoir\"\n",
    "    },\n",
    "    {\n",
    "      \"author\": \"Jojo Moyes\",\n",
    "      \"id\": 5,\n",
    "      \"rating\": 5,\n",
    "      \"title\": \"Still Me: A Novel\"\n",
    "    },\n",
    "    {\n",
    "      \"author\": \"Leila Slimani\",\n",
    "      \"id\": 6,\n",
    "      \"rating\": 5,\n",
    "      \"title\": \"Lullaby\"\n",
    "    },\n",
    "    {\n",
    "      \"author\": \"Amitava Kumar\",\n",
    "      \"id\": 7,\n",
    "      \"rating\": 5,\n",
    "      \"title\": \"Immigrant, Montana\"\n",
    "    },\n",
    "    {\n",
    "      \"author\": \"Madeline Miller\",\n",
    "      \"id\": 8,\n",
    "      \"rating\": 5,\n",
    "      \"title\": \"CIRCE\"\n",
    "    }\n",
    "  ],\n",
    "\"success\": true,\n",
    "\"total_books\": 18\n",
    "}\n",
    "```\n",
    "\n",
    "#### POST /books\n",
    "- General:\n",
    "    - Creates a new book using the submitted title, author and rating. Returns the id of the created book, success value, total books, and book list based on current page number to update the frontend. \n",
    "- `curl http://127.0.0.1:5000/books?page=3 -X POST -H \"Content-Type: application/json\" -d '{\"title\":\"Neverwhere\", \"author\":\"Neil Gaiman\", \"rating\":\"5\"}'`\n",
    "```\n",
    "{\n",
    "  \"books\": [\n",
    "    {\n",
    "      \"author\": \"Neil Gaiman\",\n",
    "      \"id\": 24,\n",
    "      \"rating\": 5,\n",
    "      \"title\": \"Neverwhere\"\n",
    "    }\n",
    "  ],\n",
    "  \"created\": 24,\n",
    "  \"success\": true,\n",
    "  \"total_books\": 17\n",
    "}\n",
    "```\n",
    "#### DELETE /books/{book_id}\n",
    "- General:\n",
    "    - Deletes the book of the given ID if it exists. Returns the id of the deleted book, success value, total books, and book list based on current page number to update the frontend. \n",
    "- `curl -X DELETE http://127.0.0.1:5000/books/16?page=2`\n",
    "```\n",
    "{\n",
    "  \"books\": [\n",
    "    {\n",
    "      \"author\": \"Gina Apostol\",\n",
    "      \"id\": 9,\n",
    "      \"rating\": 5,\n",
    "      \"title\": \"Insurrecto: A Novel\"\n",
    "    },\n",
    "    {\n",
    "      \"author\": \"Tayari Jones\",\n",
    "      \"id\": 10,\n",
    "      \"rating\": 5,\n",
    "      \"title\": \"An American Marriage\"\n",
    "    },\n",
    "    {\n",
    "      \"author\": \"Jordan B. Peterson\",\n",
    "      \"id\": 11,\n",
    "      \"rating\": 5,\n",
    "      \"title\": \"12 Rules for Life: An Antidote to Chaos\"\n",
    "    },\n",
    "    {\n",
    "      \"author\": \"Kiese Laymon\",\n",
    "      \"id\": 12,\n",
    "      \"rating\": 1,\n",
    "      \"title\": \"Heavy: An American Memoir\"\n",
    "    },\n",
    "    {\n",
    "      \"author\": \"Emily Giffin\",\n",
    "      \"id\": 13,\n",
    "      \"rating\": 4,\n",
    "      \"title\": \"All We Ever Wanted\"\n",
    "    },\n",
    "    {\n",
    "      \"author\": \"Jose Andres\",\n",
    "      \"id\": 14,\n",
    "      \"rating\": 4,\n",
    "      \"title\": \"We Fed an Island\"\n",
    "    },\n",
    "    {\n",
    "      \"author\": \"Rachel Kushner\",\n",
    "      \"id\": 15,\n",
    "      \"rating\": 1,\n",
    "      \"title\": \"The Mars Room\"\n",
    "    }\n",
    "  ],\n",
    "  \"deleted\": 16,\n",
    "  \"success\": true,\n",
    "  \"total_books\": 15\n",
    "}\n",
    "```\n",
    "#### PATCH /books/{book_id}\n",
    "- General:\n",
    "    - If provided, updates the rating of the specified book. Returns the success value and id of the modified book. \n",
    "- `curl http://127.0.0.1:5000/books/15 -X PATCH -H \"Content-Type: application/json\" -d '{\"rating\":\"1\"}'`\n",
    "```\n",
    "{\n",
    "  \"id\": 15,\n",
    "  \"success\": true\n",
    "}"
   ]
  }
 ],
 "metadata": {
  "kernelspec": {
   "display_name": "Python 3",
   "language": "python",
   "name": "python3"
  },
  "language_info": {
   "codemirror_mode": {
    "name": "ipython",
    "version": 3
   },
   "file_extension": ".py",
   "mimetype": "text/x-python",
   "name": "python",
   "nbconvert_exporter": "python",
   "pygments_lexer": "ipython3",
   "version": "3.6.3"
  },
  "ulab_nb_type": "guided"
 },
 "nbformat": 4,
 "nbformat_minor": 4
}
